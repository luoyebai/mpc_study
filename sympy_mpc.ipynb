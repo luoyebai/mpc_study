{
  "cells": [
    {
      "cell_type": "markdown",
      "id": "b23ed7b6",
      "metadata": {
        "id": "b23ed7b6"
      },
      "source": [
        "- [Reference video](https://www.bilibili.com/video/BV1Y44y1b7ke/)\n",
        "- State-transition equation:\n",
        "$$x(k+1)=\\underbrace{A}_{n \\times n}\\underbrace{x(k)}_{n \\times 1}+\\underbrace{B}_{n \\times p}\\underbrace{u(k)}_{p \\times 1}$$\n",
        "- Prediction horizon function:\n",
        "$$\n",
        "X(k)=Mx(k) + CU(k)\n",
        "$$\n",
        "- In this function(N is horizon)\n",
        "$$\n",
        "X(k) =\n",
        "\\underbrace{\n",
        "\\begin{bmatrix}\n",
        "x(k|k) \\\\\n",
        "x(k+1|k) \\\\\n",
        "\\vdots \\\\\n",
        "x(k+i|k) \\\\\n",
        "\\vdots \\\\\n",
        "x(k+N|k) \\\\\n",
        "\\end{bmatrix}\n",
        "}_{n(N+1) \\times 1}\n",
        "\\quad \\\\\n",
        "U(k)=\n",
        "\\underbrace{\n",
        "\\begin{bmatrix}\n",
        "u(k|k) \\\\\n",
        "u(k+1|k) \\\\\n",
        "\\vdots \\\\\n",
        "u(k+i|k) \\\\\n",
        "\\vdots \\\\\n",
        "u(k+N-1|k) \\\\\n",
        "\\end{bmatrix}\n",
        "}_{Np \\times 1}\n",
        "\\quad \\\\\n",
        "M =\n",
        "\\underbrace{\n",
        "\\begin{bmatrix}\n",
        "I_{n \\times n} \\\\\n",
        "A_{n \\times n} \\\\\n",
        "A_2 \\\\\n",
        "\\vdots \\\\\n",
        "A_N \\\\\n",
        "\\end{bmatrix}\n",
        "}_{n(N+1) \\times n}\n",
        "\\quad \\\\\n",
        "C =\n",
        "\\underbrace{\n",
        "\\begin{bmatrix}\n",
        "0 & 0 & \\cdots & 0 \\\\\n",
        "\\vdots & \\vdots & \\cdots & \\vdots \\\\\n",
        "0 & 0 & & 0 \\\\\n",
        "B & 0 & \\cdots & 0 \\\\\n",
        "AB & B & \\cdots & 0 \\\\\n",
        "\\vdots & \\vdots & \\ddots & 0 \\\\\n",
        "A^{N-1}B & A^{N-2}B & \\cdots & B \\\\\n",
        "\\end{bmatrix}\n",
        "}_{n(N+1) \\times Np}\n",
        "$$"
      ]
    },
    {
      "cell_type": "markdown",
      "id": "d2565964",
      "metadata": {
        "id": "d2565964"
      },
      "source": [
        "\n",
        "- Cost function:\n",
        "$$\n",
        "J = (x(k)-x^*)^TG(x(k)-x^*)+U(k)^THU(k)+2(x(k)-x^*)^TEU(k)\n",
        "$$\n",
        "- In this funciton\n",
        "$$\n",
        "G = M^T\\overline{Q}M \\\\\n",
        "\\quad \\\\\n",
        "E = M^T\\overline{Q}C \\\\\n",
        "\\quad \\\\\n",
        "H = C^T\\overline{Q}C + \\overline{R} \\\\\n",
        "$$\n",
        "\n",
        "- $Q(error),R(input)$ are adjustment matrixs\n",
        "$$\n",
        "\\overline{Q} =\n",
        "\\begin{bmatrix}\n",
        "Q & \\cdots &  \\\\\n",
        "\\vdots & Q & \\vdots \\\\\n",
        "  & \\cdots & F \\\\\n",
        "\\end{bmatrix}\n",
        "\\quad \\\\\n",
        "\\overline{R} =\n",
        "\\begin{bmatrix}\n",
        "R & \\cdots &  \\\\\n",
        "\\vdots & \\ddots & \\vdots \\\\\n",
        "  & \\cdots & R \\\\\n",
        "\\end{bmatrix}\n",
        "$$"
      ]
    },
    {
      "cell_type": "code",
      "execution_count": 1,
      "id": "c76b2de3-f1e9-44a2-a181-e2c8356c5c60",
      "metadata": {
        "id": "c76b2de3-f1e9-44a2-a181-e2c8356c5c60"
      },
      "outputs": [],
      "source": [
        "import sympy\n",
        "\n",
        "\n",
        "def solve(mat: sympy.Matrix, symbol: sympy.MatrixSymbol, val):\n",
        "    return mat.subs(symbol, val)\n",
        "\n",
        "\n",
        "def M(N: int, A: sympy.Matrix):\n",
        "    return sympy.BlockMatrix([[sympy.Matrix(A**i)] for i in range(N + 1)]).as_explicit()\n",
        "\n",
        "\n",
        "def G(N: int, A: sympy.Matrix, Q_BAR: sympy.Matrix):\n",
        "    return M(N, A).T * Q_BAR * M(N, A)\n",
        "\n",
        "\n",
        "def C(N: int, A: sympy.Matrix, B: sympy.Matrix):\n",
        "    n, p = (A * B).shape\n",
        "    res_up = sympy.BlockMatrix([[sympy.zeros(n, p) for i in range(N)]]).as_explicit()\n",
        "    res_down = sympy.BlockMatrix(\n",
        "        [\n",
        "            [\n",
        "                A ** (N - j) * (A ** (N - i)).inv() * B if i >= j else sympy.zeros(n, p)\n",
        "                for j in range(N)\n",
        "            ]\n",
        "            for i in range(N)\n",
        "        ]\n",
        "    ).as_explicit()\n",
        "    return sympy.BlockMatrix([[res_up], [res_down]]).as_explicit()\n",
        "\n",
        "\n",
        "def Q_BAR(N: int, Q: sympy.Matrix, F: sympy.Matrix):\n",
        "    return sympy.BlockDiagMatrix(*([Q for _ in range(N)] + [F])).as_explicit()\n",
        "\n",
        "\n",
        "def R_BAR(N: int, R: sympy.Matrix):\n",
        "    return sympy.BlockDiagMatrix(*([R for _ in range(N)])).as_explicit()\n",
        "\n",
        "\n",
        "def G(M: sympy.Matrix, Q_BAR: sympy.Matrix):\n",
        "    return M.T * Q_BAR * M\n",
        "\n",
        "\n",
        "def E(M: sympy.Matrix, Q_BAR: sympy.Matrix, C: sympy.Matrix):\n",
        "    return M.T * Q_BAR * C\n",
        "\n",
        "\n",
        "def H(C: sympy.Matrix, Q_BAR: sympy.Matrix, R_BAR: sympy.Matrix):\n",
        "    return C.T * Q_BAR * C + R_BAR\n",
        "\n",
        "\n",
        "def MPC_GEH(\n",
        "    N: int,\n",
        "    A: sympy.Matrix,\n",
        "    B: sympy.Matrix,\n",
        "    Q: sympy.Matrix,\n",
        "    F: sympy.Matrix,\n",
        "    R: sympy.Matrix,\n",
        "):\n",
        "    return (\n",
        "        G(M(N, A), Q_BAR(N, Q, F)),\n",
        "        E(M(N, A), Q_BAR(N, Q, F), C(N, A, B)),\n",
        "        H(C(N, A, B), Q_BAR(N, Q, F), R_BAR(N, R)),\n",
        "    )\n",
        "\n",
        "\n",
        "def J(\n",
        "    G: sympy.Matrix,\n",
        "    E: sympy.Matrix,\n",
        "    H: sympy.Matrix,\n",
        "    x_k: sympy.Matrix,\n",
        "    x_target: sympy.Matrix,\n",
        "    U_K: sympy.MatrixSymbol,\n",
        "):\n",
        "    res1 = (x_k - x_target).T * G * (x_k - x_target)\n",
        "    res2 = U_K.T * H * U_K\n",
        "    res3 = 2 * (x_k - x_target).T * E * U_K\n",
        "    return res1 + res2 + res3"
      ]
    },
    {
      "cell_type": "markdown",
      "id": "5be69a98",
      "metadata": {
        "id": "5be69a98"
      },
      "source": [
        "- ex($n,p=2,2$):\n",
        "$$\n",
        "\\begin{bmatrix}\n",
        "x_1(k+1) \\\\\n",
        "x_2(k+1) \\\\\n",
        "\\end{bmatrix}\n",
        "=  \n",
        "\\begin{bmatrix}\n",
        "1  & 0.1 \\\\\n",
        "-1 & 2 \\\\\n",
        "\\end{bmatrix}\n",
        "\\begin{bmatrix}\n",
        "x_1(k) \\\\\n",
        "x_2(k) \\\\\n",
        "\\end{bmatrix}\n",
        "+\n",
        "\\begin{bmatrix}\n",
        "0.2 & 1 \\\\\n",
        "0.5 & 2 \\\\\n",
        "\\end{bmatrix}u(k)\n",
        "$$"
      ]
    },
    {
      "cell_type": "code",
      "execution_count": 2,
      "id": "3399def8",
      "metadata": {
        "colab": {
          "base_uri": "https://localhost:8080/",
          "height": 586
        },
        "id": "3399def8",
        "outputId": "43206056-e49b-4604-e1d2-a9d3be9ec41e"
      },
      "outputs": [
        {
          "data": {
            "text/latex": [
              "$\\displaystyle \\left[\\begin{matrix}1 & 0.1\\\\-1 & 2\\end{matrix}\\right]$"
            ],
            "text/plain": [
              "Matrix([\n",
              "[ 1, 0.1],\n",
              "[-1,   2]])"
            ]
          },
          "metadata": {},
          "output_type": "display_data"
        },
        {
          "data": {
            "text/latex": [
              "$\\displaystyle \\left[\\begin{matrix}0.2 & 1\\\\0.5 & 2\\end{matrix}\\right]$"
            ],
            "text/plain": [
              "Matrix([\n",
              "[0.2, 1],\n",
              "[0.5, 2]])"
            ]
          },
          "metadata": {},
          "output_type": "display_data"
        },
        {
          "data": {
            "text/latex": [
              "$\\displaystyle \\left[\\begin{matrix}1 & 0\\\\0 & 1\\end{matrix}\\right]$"
            ],
            "text/plain": [
              "Matrix([\n",
              "[1, 0],\n",
              "[0, 1]])"
            ]
          },
          "metadata": {},
          "output_type": "display_data"
        },
        {
          "data": {
            "text/latex": [
              "$\\displaystyle \\left[\\begin{matrix}1 & 0\\\\0 & 1\\end{matrix}\\right]$"
            ],
            "text/plain": [
              "Matrix([\n",
              "[1, 0],\n",
              "[0, 1]])"
            ]
          },
          "metadata": {},
          "output_type": "display_data"
        },
        {
          "data": {
            "text/latex": [
              "$\\displaystyle \\left[\\begin{matrix}0.1 & 0\\\\0 & 0.1\\end{matrix}\\right]$"
            ],
            "text/plain": [
              "Matrix([\n",
              "[0.1,   0],\n",
              "[  0, 0.1]])"
            ]
          },
          "metadata": {},
          "output_type": "display_data"
        },
        {
          "data": {
            "text/latex": [
              "$\\displaystyle \\left[\\begin{matrix}60.78 & -64.666\\\\-64.666 & 77.0361\\end{matrix}\\right]$"
            ],
            "text/plain": [
              "Matrix([\n",
              "[  60.78, -64.666],\n",
              "[-64.666, 77.0361]])"
            ]
          },
          "metadata": {},
          "output_type": "display_data"
        },
        {
          "data": {
            "text/latex": [
              "$\\displaystyle \\left[\\begin{matrix}-11.592 & -41.14 & -6.69 & -25.08 & -3.33 & -13.2\\\\14.5677 & 53.195 & 8.1825 & 31.428 & 3.888 & 15.69\\end{matrix}\\right]$"
            ],
            "text/plain": [
              "Matrix([\n",
              "[-11.592, -41.14,  -6.69, -25.08, -3.33, -13.2],\n",
              "[14.5677, 53.195, 8.1825, 31.428, 3.888, 15.69]])"
            ]
          },
          "metadata": {},
          "output_type": "display_data"
        },
        {
          "data": {
            "text/latex": [
              "$\\displaystyle \\left[\\begin{matrix}3.0239 & 10.875 & 1.6125 & 6.296 & 0.741 & 3.03\\\\10.875 & 40.83 & 5.955 & 23.4 & 2.7 & 11.1\\\\1.6125 & 5.955 & 1.0925 & 3.9 & 0.45 & 1.85\\\\6.296 & 23.4 & 3.9 & 15.54 & 1.74 & 7.2\\\\0.741 & 2.7 & 0.45 & 1.74 & 0.39 & 1.2\\\\3.03 & 11.1 & 1.85 & 7.2 & 1.2 & 5.1\\end{matrix}\\right]$"
            ],
            "text/plain": [
              "Matrix([\n",
              "[3.0239, 10.875, 1.6125, 6.296, 0.741, 3.03],\n",
              "[10.875,  40.83,  5.955,  23.4,   2.7, 11.1],\n",
              "[1.6125,  5.955, 1.0925,   3.9,  0.45, 1.85],\n",
              "[ 6.296,   23.4,    3.9, 15.54,  1.74,  7.2],\n",
              "[ 0.741,    2.7,   0.45,  1.74,  0.39,  1.2],\n",
              "[  3.03,   11.1,   1.85,   7.2,   1.2,  5.1]])"
            ]
          },
          "metadata": {},
          "output_type": "display_data"
        },
        {
          "data": {
            "text/latex": [
              "$\\displaystyle \\left(- 2 \\left(x^{*}\\right)^{T} + 2 x_{k}^{T}\\right) \\left[\\begin{matrix}-11.592 & -41.14 & -6.69 & -25.08 & -3.33 & -13.2\\\\14.5677 & 53.195 & 8.1825 & 31.428 & 3.888 & 15.69\\end{matrix}\\right] U + \\left(- \\left(x^{*}\\right)^{T} + x_{k}^{T}\\right) \\left[\\begin{matrix}60.78 & -64.666\\\\-64.666 & 77.0361\\end{matrix}\\right] \\left(- x^{*} + x_{k}\\right) + U^{T} \\left[\\begin{matrix}3.0239 & 10.875 & 1.6125 & 6.296 & 0.741 & 3.03\\\\10.875 & 40.83 & 5.955 & 23.4 & 2.7 & 11.1\\\\1.6125 & 5.955 & 1.0925 & 3.9 & 0.45 & 1.85\\\\6.296 & 23.4 & 3.9 & 15.54 & 1.74 & 7.2\\\\0.741 & 2.7 & 0.45 & 1.74 & 0.39 & 1.2\\\\3.03 & 11.1 & 1.85 & 7.2 & 1.2 & 5.1\\end{matrix}\\right] U$"
            ],
            "text/plain": [
              "(-2*x^*.T + 2*x_k.T)*Matrix([\n",
              "[-11.592, -41.14,  -6.69, -25.08, -3.33, -13.2],\n",
              "[14.5677, 53.195, 8.1825, 31.428, 3.888, 15.69]])*U + (-x^*.T + x_k.T)*Matrix([\n",
              "[  60.78, -64.666],\n",
              "[-64.666, 77.0361]])*(-x^* + x_k) + U.T*Matrix([\n",
              "[3.0239, 10.875, 1.6125, 6.296, 0.741, 3.03],\n",
              "[10.875,  40.83,  5.955,  23.4,   2.7, 11.1],\n",
              "[1.6125,  5.955, 1.0925,   3.9,  0.45, 1.85],\n",
              "[ 6.296,   23.4,    3.9, 15.54,  1.74,  7.2],\n",
              "[ 0.741,    2.7,   0.45,  1.74,  0.39,  1.2],\n",
              "[  3.03,   11.1,   1.85,   7.2,   1.2,  5.1]])*U"
            ]
          },
          "metadata": {},
          "output_type": "display_data"
        }
      ],
      "source": [
        "# State,input dimensions\n",
        "n, p = 2, 2\n",
        "# Prediction horizon\n",
        "N = 3\n",
        "\n",
        "\"\"\"\n",
        "# Also use symbolic calculations to view the results\n",
        "# All results are symbols rather than numbers\n",
        "# Example:\n",
        "A_SYM = sympy.MatrixSymbol(\"A\", n, n)\n",
        "B_SYM = sympy.MatrixSymbol(\"B\", n, p)\n",
        "Q_SYM = sympy.MatrixSymbol(\"Q\", n, n)\n",
        "F_SYM = sympy.MatrixSymbol(\"F\", n, n)\n",
        "R_SYM = sympy.MatrixSymbol(\"R\", p, p)\n",
        "G_SYM, E_SYM, H_SYM = MPC_GEH(N, A_SYM, B_SYM, Q_SYM, F_SYM, R_SYM)\n",
        "\"\"\"\n",
        "# State transition matrix\n",
        "A_VAL = sympy.Matrix([[1, 0.1], [-1, 2]])\n",
        "B_VAL = sympy.Matrix([[0.2, 1], [0.5, 2]])\n",
        "# Adjustment matrix\n",
        "Q_VAL = sympy.Matrix([[1, 0], [0, 1]])\n",
        "F_VAL = sympy.Matrix([[1, 0], [0, 1]])\n",
        "R_VAL = sympy.Matrix([[0.1, 0], [0, 0.1]])\n",
        "\n",
        "G_VAL, E_VAL, H_VAL = MPC_GEH(N, A_VAL, B_VAL, Q_VAL, F_VAL, R_VAL)\n",
        "\n",
        "# x_k is now state\n",
        "x_k_SYM = sympy.MatrixSymbol(\"x_k\", n, 1)\n",
        "# x_target is target state\n",
        "x_target_SYM = sympy.MatrixSymbol(\"x^*\", n, 1)\n",
        "# U_K is the mpc result\n",
        "U_K_SYM = sympy.MatrixSymbol(\"U\", N * p, 1)\n",
        "\n",
        "# Minimize J\n",
        "J_SYM = J(G_VAL, E_VAL, H_VAL, x_k_SYM, x_target_SYM, U_K_SYM)\n",
        "\n",
        "display(A_VAL, B_VAL, Q_VAL, F_VAL, R_VAL, G_VAL, E_VAL, H_VAL, J_SYM)"
      ]
    }
  ],
  "metadata": {
    "colab": {
      "provenance": []
    },
    "kernelspec": {
      "display_name": "Python 3 (ipykernel)",
      "language": "python",
      "name": "python3"
    },
    "language_info": {
      "codemirror_mode": {
        "name": "ipython",
        "version": 3
      },
      "file_extension": ".py",
      "mimetype": "text/x-python",
      "name": "python",
      "nbconvert_exporter": "python",
      "pygments_lexer": "ipython3",
      "version": "3.12.2"
    }
  },
  "nbformat": 4,
  "nbformat_minor": 5
}
